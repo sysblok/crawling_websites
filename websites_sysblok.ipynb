{
 "cells": [
  {
   "cell_type": "code",
   "execution_count": null,
   "metadata": {},
   "outputs": [],
   "source": [
    "# парсим простой сайт"
   ]
  },
  {
   "cell_type": "code",
   "execution_count": 33,
   "metadata": {},
   "outputs": [],
   "source": [
    "from tqdm import tqdm_notebook\n",
    "from pyquery import PyQuery as pq\n",
    "import requests\n",
    "\n",
    "response_poems = requests.get(\"https://www.stihi.ru/2019/03/28/5717\")\n",
    "# следующей строкой можно вывести первые 500 строчек сохраненного html-документа\n",
    "# response_poems.text[:500]\n",
    "\n",
    "# автор\n",
    "author = pq(response_poems.text).find(\"div.titleauthor\").text()\n",
    "# на следующей строке открываем имя автора\n",
    "# author\n",
    "\n",
    "# как оно называется\n",
    "title = pq(response_poems.text).find(\"h1\").text()\n",
    "#title\n",
    "\n",
    "# ну и сам текст стиха\n",
    "text = pq(response_poems.text).find(\"div.text\").text()\n",
    "#text\n",
    "\n",
    "# теперь попробуем скачать все стихотворение с 1 странички произведений раздела \"мистика и эзотерика\"\n",
    "# сначала соберем ссылочки на сами стихи и запишем их в отдельный лист\n",
    "response_poems_full = requests.get(\"https://www.stihi.ru/poems/list.html?topic=13\")\n",
    "poems_urls = []\n",
    "\n",
    "for poem in pq(response_poems_full.text).find(\"a.poemlink\"):\n",
    "    url = pq(poem).attr(\"href\")\n",
    "    poems_urls.append(\"https://www.stihi.ru\" + url)\n",
    "    \n",
    "    \n",
    "# оборачивает в цикл, которым записываем текст стиха, название и автора с каждой ссылки в отдельные файлики в корневом каталоге\n",
    "for num, poem_url in tqdm_notebook(enumerate(poems_urls)):\n",
    "    res = requests.get(poem_url)\n",
    "    \n",
    "    title = pq(res.text).find(\"h1\").text()\n",
    "    author = pq(res.text).find(\"div.titleauthor\").text()\n",
    "    \n",
    "     text = \"\"\n",
    "    for poem in pq(res.text).find(\"div.text\"):\n",
    "        text += pq(poem).text().replace(\"\\n\", \"\\n\")\n",
    "    \n",
    "    try:\n",
    "        with open(f\"stihi/{num}.txt\", \"wt\", encoding=\"utf-8\") as f:\n",
    "            f.write(title + \"\\n\" + author + \"\\n\" + text)\n",
    "    except UnicodeEncodeError as err:\n",
    "        print(err, poem_url)"
   ]
  },
  {
   "cell_type": "code",
   "execution_count": null,
   "metadata": {},
   "outputs": [],
   "source": [
    "# загрузка с динамического сайта (медуза, например)"
   ]
  },
  {
   "cell_type": "code",
   "execution_count": 39,
   "metadata": {},
   "outputs": [
    {
     "name": "stdout",
     "output_type": "stream",
     "text": [
      "https://meduza.io/api/w4/search?chrono=news&page=7&per_page=24&locale=ru\n",
      "https://meduza.io/api/w4/search?chrono=news&page=7&per_page=24&locale=ru\n",
      "https://meduza.io/api/w4/search?chrono=news&page=7&per_page=24&locale=ru\n",
      "https://meduza.io/api/w4/search?chrono=news&page=7&per_page=24&locale=ru\n",
      "https://meduza.io/api/w4/search?chrono=news&page=7&per_page=24&locale=ru\n",
      "https://meduza.io/api/w4/search?chrono=news&page=7&per_page=24&locale=ru\n",
      "https://meduza.io/api/w4/search?chrono=news&page=7&per_page=24&locale=ru\n",
      "https://meduza.io/api/w4/search?chrono=news&page=7&per_page=24&locale=ru\n",
      "https://meduza.io/api/w4/search?chrono=news&page=7&per_page=24&locale=ru\n",
      "https://meduza.io/api/w4/search?chrono=news&page=7&per_page=24&locale=ru\n"
     ]
    }
   ],
   "source": [
    "# сначала надо найти, откуда подгружаются статьи\n",
    "url_t = \"https://meduza.io/api/w4/search?chrono=news&page={page}&per_page=24&locale=ru\"\n",
    "\n",
    "\n",
    "# выгрузим статьи с первых 10 страниц\n",
    "# сначала соберем ссылки на эти странички (код - нетворк - превью)\n",
    "articles = []\n",
    "for page in range(1, 11):\n",
    "    url = url_t.format(page = page)\n",
    "    print(url)\n",
    "    res = requests.get(url)\n",
    "    articles.extend(res.json()[\"collection\"])\n",
    "    \n",
    "# количество статеек, которые мы соберем\n",
    "# len(articles)\n",
    "\n",
    "# как выглядят сами ссылки на статьи\n",
    "# articles[0]\n",
    "\n",
    "# соберем тексты этих статей\n",
    "for num, article_url in tqdm_notebook(enumerate(articles)):\n",
    "    res = requests.get(\"https://meduza.io/\" + article_url)\n",
    "\n",
    "    title = \"\"\n",
    "    for title in pq(res.text).find(\"h1.SimpleTitle-root\"):\n",
    "        title = pq(title).text().replace(\"\\xa0\", \" \")\n",
    "\n",
    "    text = \"\"\n",
    "    for paragraph in pq(res.text).find(\"div.GeneralMaterial-article p\"):\n",
    "        text += pq(paragraph).text().replace(\"\\xa0\", \" \")\n",
    "    try:\n",
    "        with open(f\"texts_meduza/{num}.txt\", \"wt\", encoding=\"utf-8\") as f:\n",
    "            f.write(title + \"\\n\" + text)\n",
    "    except UnicodeEncodeError as err:\n",
    "        print(err, article_url)\n",
    "        \n",
    "\n",
    "# можно также дособрать к ним метаинформацию, если друг что-то важно для анализа. например, добавим дату публикации\n",
    "\n",
    "for num, article_url in tqdm_notebook(enumerate(articles)):\n",
    "    res = requests.get(\"https://meduza.io/\" + article_url)\n",
    "\n",
    "    title = \"\"\n",
    "    for title in pq(res.text).find(\"h1.SimpleTitle-root\"):\n",
    "        title = pq(title).text().replace(\"\\xa0\", \" \")\n",
    "    time = pq(res.text).find(\"time.Timestamp-root\").text()\n",
    "    \n",
    "    try:\n",
    "        with open(f\"texts_meduza_meta/{num}.txt\", \"wt\", encoding=\"utf-8\") as f:\n",
    "            f.write(title + \"\\n\" + time)\n",
    "    except UnicodeEncodeError as err:\n",
    "        print(err, article_url)"
   ]
  }
 ],
 "metadata": {
  "kernelspec": {
   "display_name": "Python 3",
   "language": "python",
   "name": "python3"
  },
  "language_info": {
   "codemirror_mode": {
    "name": "ipython",
    "version": 3
   },
   "file_extension": ".py",
   "mimetype": "text/x-python",
   "name": "python",
   "nbconvert_exporter": "python",
   "pygments_lexer": "ipython3",
   "version": "3.7.2"
  }
 },
 "nbformat": 4,
 "nbformat_minor": 2
}
